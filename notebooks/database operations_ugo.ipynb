{
 "cells": [
  {
   "cell_type": "code",
   "execution_count": 1,
   "id": "1bff72a7",
   "metadata": {},
   "outputs": [],
   "source": [
    "import os\n",
    "import firebase_admin\n",
    "import time\n",
    "from tqdm.auto import tqdm\n",
    "from firebase_admin import credentials, firestore\n",
    "\n",
    "if '.gitignore' not in os.listdir():\n",
    "    os.chdir('..')"
   ]
  },
  {
   "cell_type": "code",
   "execution_count": 2,
   "id": "71221c8f",
   "metadata": {},
   "outputs": [],
   "source": [
    "cred = credentials.Certificate('website-cine-e77fb4ab2924.json')\n",
    "firebase_admin.initialize_app(cred)\n",
    "db = firestore.client()"
   ]
  },
  {
   "cell_type": "markdown",
   "id": "16eb3faf",
   "metadata": {},
   "source": [
    "### Analysing movies from offline-database (in 2022)"
   ]
  },
  {
   "cell_type": "code",
   "execution_count": 4,
   "id": "272bb845",
   "metadata": {},
   "outputs": [],
   "source": [
    "data = db.collection(\"offline-database\").stream() \n",
    "data_per_date = dict()\n",
    "for elem in data:\n",
    "    elem = elem.to_dict()\n",
    "    data_per_date[elem['date']] = elem\n",
    "\n",
    "movie_stream = db.collection(\"movie-info\").stream()\n",
    "movie_info = dict()\n",
    "for elem in movie_stream:\n",
    "    elem = elem.to_dict()\n",
    "    movie_info[elem['id']] = elem"
   ]
  },
  {
   "cell_type": "code",
   "execution_count": 3,
   "id": "3c313385",
   "metadata": {},
   "outputs": [
    {
     "name": "stdout",
     "output_type": "stream",
     "text": [
      "1\n"
     ]
    }
   ],
   "source": [
    "print(1)"
   ]
  },
  {
   "cell_type": "code",
   "execution_count": 27,
   "id": "d9bb638d",
   "metadata": {},
   "outputs": [
    {
     "name": "stdout",
     "output_type": "stream",
     "text": [
      "                                movie        date       hour  year decade  \\\n",
      "0                      vie-belle-1946  2022_01_01      13.25  1946   1940   \n",
      "1                      vie-belle-1946  2022_01_01       16.0  1946   1940   \n",
      "2                      vie-belle-1946  2022_01_01      18.75  1946   1940   \n",
      "3                      vie-belle-1946  2022_01_01      21.25  1946   1940   \n",
      "4                     parias-vie-1916  2022_01_01       14.0  1916   1910   \n",
      "...                               ...         ...        ...   ...    ...   \n",
      "33328                     le-bal-1983  2022_12_31       17.0  1983   1980   \n",
      "33329           l-hiver-feerique-2015  2022_12_31       16.0  2015   2010   \n",
      "33330                  mood-love-2000  2022_12_31  21.833333  2000   2000   \n",
      "33331  comedie-erotique-nuit-ete-1982  2022_12_31       14.0  1982   1980   \n",
      "33332                paris-texas-1984  2022_12_31  21.083333  1984   1980   \n",
      "\n",
      "                                                director  \n",
      "0                                            Frank Capra  \n",
      "1                                            Frank Capra  \n",
      "2                                            Frank Capra  \n",
      "3                                            Frank Capra  \n",
      "4                                             Allan Dwan  \n",
      "...                                                  ...  \n",
      "33328                                       Ettore Scola  \n",
      "33329  Vasily Shlichkov, Yawen Zeng, Nina Bisyarina, ...  \n",
      "33330                                       Wong Kar-Wai  \n",
      "33331                                        Woody Allen  \n",
      "33332                                        Wim Wenders  \n",
      "\n",
      "[33333 rows x 6 columns]\n"
     ]
    }
   ],
   "source": [
    "from collections import Counter\n",
    "import matplotlib.pyplot as plt\n",
    "import numpy as np\n",
    "import sys\n",
    "import pandas as pd\n",
    "import os\n",
    "\n",
    "def plot_decades(decades_played, setxticks=False, cast_int=True):\n",
    "    plt.clf()\n",
    "    plt.figure(figsize=(12, 6), dpi=80)\n",
    "    _ = plt.gca()\n",
    "    if cast_int:\n",
    "        plt.bar(decades_played[:,0].astype(int), decades_played[:,1].astype(int), width=2.5)\n",
    "    else:\n",
    "        plt.bar(decades_played[:,0], decades_played[:,1].astype(int), width=2.5)\n",
    "    \n",
    "    if setxticks:\n",
    "        _, _ = plt.xticks(decades_played[:,0].astype(int))\n",
    "    plt.show()\n",
    "\n",
    "def get_counters_movies_and_dates(data_per_date, movie_info):\n",
    "    movies_played = Counter()\n",
    "    years_played = Counter()\n",
    "    decades_played = Counter()\n",
    "    directors_played = Counter()\n",
    "    data2022 = list()\n",
    "    for date, data in data_per_date.items():\n",
    "        movies_date = data[\"movies\"]\n",
    "        year_date = int(date.split(\"_\")[0])\n",
    "        if (year_date==2022):\n",
    "            for mov in movies_date:\n",
    "                for k, v in movies_date[mov].items():\n",
    "                    for hour in v[\"showtimes\"]:\n",
    "                        year = mov.split(\"-\")[-1]\n",
    "                        if year != \"None\":\n",
    "                            if (int(year)<=2018) and (int(year)>=1900):\n",
    "                                decade = str(year)[:3]+\"0\"\n",
    "                                director = movie_info[mov][\"directors\"]\n",
    "                                movies_played.update([mov])\n",
    "                                years_played.update([year])\n",
    "                                decades_played.update([decade])\n",
    "                                directors_played.update([director])\n",
    "                                data2022.append([mov, date, hour, year, decade, director])\n",
    "    return movies_played, years_played, decades_played, directors_played, data2022\n",
    "\n",
    "movies_played, years_played, decades_played, directors_played, data2022 = \\\n",
    "    get_counters_movies_and_dates(data_per_date=data_per_date, movie_info=movie_info)\n",
    "\n",
    "data2022 = pd.DataFrame (data2022, columns = ['movie', 'date', 'hour', 'year', 'decade', 'director'])\n",
    "\n",
    "# print(directors_played.most_common(10))\n",
    "# print(movies_played.most_common(10))\n",
    "\n",
    "# movies_played = np.array(movies_played.most_common(100))\n",
    "# plot_decades(movies_played, setxticks=False, cast_int=False)\n",
    "\n",
    "# years_played = np.array(sorted(years_played.items()))\n",
    "# plot_decades(years_played, setxticks=False)\n",
    "\n",
    "# decades_played = np.array(sorted(decades_played.items()))\n",
    "# plot_decades(decades_played, setxticks=True)\n",
    "print(data2022)"
   ]
  }
 ],
 "metadata": {
  "kernelspec": {
   "display_name": "Python 3.7.9 64-bit",
   "language": "python",
   "name": "python3"
  },
  "language_info": {
   "codemirror_mode": {
    "name": "ipython",
    "version": 3
   },
   "file_extension": ".py",
   "mimetype": "text/x-python",
   "name": "python",
   "nbconvert_exporter": "python",
   "pygments_lexer": "ipython3",
   "version": "3.7.9"
  },
  "vscode": {
   "interpreter": {
    "hash": "1180262b359c3c0f2b44a6b80bc5d9cd362f8a5e4963fa4cc93a54ffa558408f"
   }
  }
 },
 "nbformat": 4,
 "nbformat_minor": 5
}
